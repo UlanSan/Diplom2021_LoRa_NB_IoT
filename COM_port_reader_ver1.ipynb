{
 "cells": [
  {
   "cell_type": "code",
   "execution_count": 1,
   "metadata": {},
   "outputs": [],
   "source": [
    "import serial\n",
    "import keyboard\n",
    "import paho.mqtt.client as mqtt\n",
    "import time"
   ]
  },
  {
   "cell_type": "markdown",
   "metadata": {},
   "source": [
    "# Настройка COM порта"
   ]
  },
  {
   "cell_type": "code",
   "execution_count": 4,
   "metadata": {},
   "outputs": [],
   "source": [
    "ser = serial.Serial(\n",
    "    port='COM8',\\\n",
    "    baudrate=9600,\\\n",
    "    parity=serial.PARITY_NONE,\\\n",
    "    stopbits=serial.STOPBITS_ONE,\\\n",
    "    bytesize=serial.EIGHTBITS,\\\n",
    "        timeout=0)"
   ]
  },
  {
   "cell_type": "markdown",
   "metadata": {},
   "source": [
    "# MQTT настройка"
   ]
  },
  {
   "cell_type": "code",
   "execution_count": 5,
   "metadata": {},
   "outputs": [],
   "source": [
    "def on_connect(client,usedata,flags, rc):\n",
    "    if rc == 0:\n",
    "        print(\"client is connected\")\n",
    "        global connected\n",
    "        connected = True\n",
    "    else:\n",
    "        print(\"Error\")"
   ]
  },
  {
   "cell_type": "code",
   "execution_count": 6,
   "metadata": {},
   "outputs": [],
   "source": [
    "connected = False\n",
    "broker_address = \"dev.rightech.io\"\n",
    "port = 1883\n",
    "user = \"111\"\n",
    "password = \"111\""
   ]
  },
  {
   "cell_type": "code",
   "execution_count": 7,
   "metadata": {},
   "outputs": [],
   "source": [
    "client = mqtt.Client(client_id=\"mqtt-anulanov_1-5npumo\")\n",
    "client.username_pw_set(user, password = password)\n",
    "#client.on_message = on_message\n",
    "client.on_connect = on_connect\n",
    "#client.on_publish = on_publish\n",
    "#client.on_subscribe = on_subscribe"
   ]
  },
  {
   "cell_type": "markdown",
   "metadata": {},
   "source": [
    "# Сканирование порта и отправка данных по MQTT"
   ]
  },
  {
   "cell_type": "code",
   "execution_count": 12,
   "metadata": {},
   "outputs": [
    {
     "name": "stdout",
     "output_type": "stream",
     "text": [
      "client is connected\n",
      "END!\n"
     ]
    }
   ],
   "source": [
    "client.connect(broker_address, port=port)\n",
    "client.loop_start()\n",
    "while connected != True:\n",
    "    time.sleep(0.2)\n",
    "seq = []\n",
    "while True:\n",
    "    for c in ser.read():\n",
    "        seq.append(chr(c)) #convert from ASCII\n",
    "        joined_seq = ''.join(str(v) for v in seq) #Make a string from array\n",
    "        if chr(c) == '\\n':\n",
    "            k = joined_seq.find('#')\n",
    "            if k != -1:\n",
    "                data_str = joined_seq[k+1:]\n",
    "                data_str = data_str.strip()\n",
    "                i = data_str.find(' ')\n",
    "                temp = float(data_str[:i])\n",
    "                humd = data_str[i:]\n",
    "                humd = humd.replace(' ','')\n",
    "                humd = float(humd)\n",
    "                client.publish(\"base/state/humd\", humd)\n",
    "                client.publish(\"base/state/temp\", temp)\n",
    "                seq = []\n",
    "                break\n",
    "            seq = []\n",
    "            break\n",
    "    if keyboard.is_pressed('Esc'):  # if key 'Esc' is pressed \n",
    "            client.loop_stop()\n",
    "            client.disconnect()\n",
    "            print('END!')\n",
    "            break  # finishing the loop"
   ]
  },
  {
   "cell_type": "code",
   "execution_count": null,
   "metadata": {},
   "outputs": [],
   "source": []
  }
 ],
 "metadata": {
  "kernelspec": {
   "display_name": "Python 3",
   "language": "python",
   "name": "python3"
  },
  "language_info": {
   "codemirror_mode": {
    "name": "ipython",
    "version": 3
   },
   "file_extension": ".py",
   "mimetype": "text/x-python",
   "name": "python",
   "nbconvert_exporter": "python",
   "pygments_lexer": "ipython3",
   "version": "3.8.6"
  }
 },
 "nbformat": 4,
 "nbformat_minor": 4
}
